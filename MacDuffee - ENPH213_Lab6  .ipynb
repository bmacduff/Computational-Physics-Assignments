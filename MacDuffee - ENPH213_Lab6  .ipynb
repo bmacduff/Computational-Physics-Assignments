{
 "cells": [
  {
   "cell_type": "markdown",
   "metadata": {},
   "source": [
    "# ENPH 213 - Week 6 Lab\n",
    "\n",
    "In this lab, we will be working on interpolating between finite data sets using a variety of different methods while continuing to develop your Python skills.\n",
    "\n",
    "When you are finished, please rename this notebook to LastName_ENPH213_Lab6, where LastName is your last name.  Submit that file to onQ.  Also, include your Lab4.py file (or similar) to ensure that the notebook can run without error.\n",
    "\n",
    "For marking Parts 1-4 will be marked together (Weighted out of 10) and Part 5 will be marked separately (Weighted out of 5)."
   ]
  },
  {
   "cell_type": "markdown",
   "metadata": {},
   "source": [
    "## Part 1\n",
    "\n",
    "Consider the data set consisting of the following $x$-values\n",
    "\n",
    "0.5, 2.6, 3.8, 4.7, 5.6, 7.1, 8.9\n",
    "\n",
    "and the corresponding $y$-values\n",
    "\n",
    "0.01963664, 0.07507309, 0.23405139, 0.29202742, 0.13045487, 0.03839685, 0.01497929\n",
    "\n",
    "Here in Part 1, you will interpolate the data using a polynomial.  Start by ensuring that you know what order of polynomial you should use.  Then, create the matrix that you need to diagonalize, and then call your BackSub(A, b) function from Lab 4 to solve for the polynomial coefficients.\n",
    "\n",
    "For output, plot the interpolated function from $ x = $ 0 to 9.5, along with the points from the data set.  As well, output the interpolated values for the following $x$-values:\n",
    "\n",
    "1.1, 2.2, 3.3, 4.4, 5.5, 6.6, 7.7, 8.8\n",
    "\n",
    "\n",
    "**Note: You will again need your BackSub(A,b) function from Lab 4.  Place the saved Lab4.py file in the same directory as this notebook, and use \"from Lab4 import BackSub\".  Submit the Lab4.py file with this notebook so that it can run when refreshed before marking.**"
   ]
  },
  {
   "cell_type": "code",
   "execution_count": 20,
   "metadata": {},
   "outputs": [],
   "source": [
    "import numpy as np\n",
    "from matplotlib import pyplot as plt"
   ]
  },
  {
   "cell_type": "code",
   "execution_count": 95,
   "metadata": {},
   "outputs": [
    {
     "name": "stdout",
     "output_type": "stream",
     "text": [
      "[0.390992] [0.11685006] [0.14257886] [0.29797783] [0.1549811] [-0.03256358] [0.2757724] [0.17655415]\n"
     ]
    },
    {
     "data": {
      "text/plain": [
       "[<matplotlib.lines.Line2D at 0x7ff415ad7c40>]"
      ]
     },
     "execution_count": 95,
     "metadata": {},
     "output_type": "execute_result"
    },
    {
     "data": {
      "image/png": "[encoded data removed]",
      "text/plain": [
       "<Figure size 432x288 with 1 Axes>"
      ]
     },
     "metadata": {
      "needs_background": "light"
     },
     "output_type": "display_data"
    }
   ],
   "source": [
    "x = np.array([0.5,2.6,3.8,4.7,5.6,7.1,8.9])\n",
    "y = np.array([0.01963664, 0.07507309, 0.23405139, 0.29202742, 0.1304587, 0.03839685, 0.01497929])\n",
    "\n",
    "A = np.zeros(49)\n",
    "A = np.reshape(A, (7,7))\n",
    "for i in range(7):\n",
    "    for j in range(7):\n",
    "        A[i,j] = x[i]**j\n",
    "b = y.reshape((-1,1)) #have to reshape the y array to be vertical\n",
    "\n",
    "c = np.linalg.solve(A, b) #solving the matrix of A and y/b\n",
    "\n",
    "def p(x):\n",
    "    v = 0 #initialize the value\n",
    "    for i in range(7):\n",
    "        v = v + c[i]*x**i\n",
    "    return v\n",
    "\n",
    "xr = np.linspace(0,9.5) #define the range of x\n",
    "plt.plot(xr,p(xr)) #plot the xrange vs the function p out put for each x point\n",
    "print(p(1.1),p(2.2),p(3.3),p(4.4),p(5.5),p(6.6),p(7.7),p(8.8))\n",
    "plt.plot(x,y,'o')"
   ]
  },
  {
   "cell_type": "markdown",
   "metadata": {},
   "source": [
    "# Part 2\n",
    "\n",
    "Use the same (x,y) dataset from Part 1.\n",
    "\n",
    "Here in Part 2, you will interpolate the data using Lagrange functions.  Start by ensuring that you know what order of polynomial you should use.  Then, create a function that can calculate the Lagrange function at a particular $x$ and $k$.  Use that function with appropriate coefficients in a sum to calculate the requested output.\n",
    "\n",
    "For output, plot the interpolated function from 0 to 9.5, along with the points from the data set.  As well, output the interpolated values for the following $x$-values:\n",
    "\n",
    "1.1, 2.2, 3.3, 4.4, 5.5, 6.6, 7.7, 8.8"
   ]
  },
  {
   "cell_type": "code",
   "execution_count": 429,
   "metadata": {},
   "outputs": [
    {
     "name": "stdout",
     "output_type": "stream",
     "text": [
      "0.39099200315286226 0.11685006405266747 0.14257885929688532 0.2979778278098833 0.15498110064968534 -0.032563579832105775 0.27577240338584424 0.17655414958698307\n"
     ]
    },
    {
     "data": {
      "image/png": "[encoded data removed]",
      "text/plain": [
       "<Figure size 432x288 with 1 Axes>"
      ]
     },
     "metadata": {
      "needs_background": "light"
     },
     "output_type": "display_data"
    }
   ],
   "source": [
    "def L(x, xval,n,k):\n",
    "    Ldenom = 1\n",
    "    Lnumer = 1\n",
    "    for j in range(0,n):\n",
    "        if(j==k):\n",
    "            continue\n",
    "        Lnumer = Lnumer*(xval-x[j])\n",
    "        Ldenom = Ldenom*(x[k]-x[j])\n",
    "    L = Lnumer/Ldenom\n",
    "    return L\n",
    "\n",
    "def p2(x1):\n",
    "    val = 0 \n",
    "    for i in range (0,7): \n",
    "        val = val + y[i]*L(x,x1,7,i) \n",
    "    return val  \n",
    "\n",
    "plt.plot(xr,p2(xr))\n",
    "plt.plot(x,y,'o')\n",
    "print(p2(1.1),p2(2.2),p2(3.3),p2(4.4),p2(5.5),p2(6.6),p2(7.7),p2(8.8))"
   ]
  },
  {
   "cell_type": "markdown",
   "metadata": {},
   "source": [
    "# Part 3\n",
    "\n",
    "Use the same (x,y) dataset from Part 1.\n",
    "\n",
    "Here in Part 3, you will interpolate the data using the cubic Spline method.  Start by ensuring that you know what size of matrix you should use (this is particularly important for this method).  Then, poplulate the matrix with the tri-diagonal elements.  Once completed, use your BackSub(A, b) function from Lab 4 to solve for the polynomial coefficients.  Use the coefficients to calculate the interpolated function in the different regions.\n",
    "\n",
    "As above, plot the interpolated function from 0 to 9.5, along with the points from the data set. Ensure that all output is consistent with the method.  As well, output the interpolated values for the following $x$-values:\n",
    "\n",
    "1.1, 2.2, 3.3, 4.4, 5.5, 6.6, 7.7, 8.8"
   ]
  },
  {
   "cell_type": "code",
   "execution_count": 461,
   "metadata": {
    "scrolled": true
   },
   "outputs": [
    {
     "name": "stdout",
     "output_type": "stream",
     "text": [
      "0.01589718058118945 0.043694547168286565 0.16200077384549902 0.2967581279823657 0.14924412029988132 0.04414267454189901 0.032560132201807264 0.016574724249004812\n"
     ]
    },
    {
     "data": {
      "image/png": "[encoded data removed]",
      "text/plain": [
       "<Figure size 432x288 with 1 Axes>"
      ]
     },
     "metadata": {
      "needs_background": "light"
     },
     "output_type": "display_data"
    }
   ],
   "source": [
    "def bk(y,x,k):\n",
    "    bk = 6*(((y[k+1]-y[k])/(x[k+1]-x[k]))-((y[k]-y[k-1])/(x[k]-x[k-1])))\n",
    "    return bk\n",
    "\n",
    "x = np.array([0.5,2.6,3.8,4.7,5.6,7.1,8.9])\n",
    "y = np.array([0.01963664, 0.07507309, 0.23405139, 0.29202742, 0.1304587, 0.03839685, 0.01497929])\n",
    "\n",
    "B = np.ones(len(x)-2)\n",
    "for i in range(1,len(x)-1):\n",
    "    B[i-1]=bk(y,x,i)\n",
    "B = B.reshape((-1,1))\n",
    "\n",
    "C = np.zeros((len(x)-2)**2)\n",
    "C = np.reshape(C,(len(x)-2,len(x)-2))\n",
    "\n",
    "for i in range(0,len(x)-3):\n",
    "    C[i,i] = 2*(x[i+2]-x[i])\n",
    "    C[(i+1),i] = x[i+2]-x[i+1]\n",
    "    C[i,(i+1)] = x[i+2]-x[i+1]\n",
    "C[4,4] = 2*(x[i+3]-x[i+1])  #defining the matrix, had to add last one in manually \n",
    "\n",
    "\n",
    "c = np.linalg.solve(C,B)\n",
    "c = np.append(c,0)\n",
    "c = np.append(0,c)\n",
    "\n",
    "def s_ks (xval,k,c):\n",
    "    term1 = y[k-1]*(x[k]-xval)/(x[k]-x[k-1])+y[k]*(xval-x[k-1])/(x[k]-x[k-1])\n",
    "    term2 = (c[k-1]/6)*((x[k]-xval)*(x[k]-x[k-1])-((x[k]-xval)**3)/(x[k]-x[k-1]))\n",
    "    term3 = (c[k]/6)*((xval-x[k-1])*(x[k]-x[k-1])-((xval-x[k-1])**3)/(x[k]-x[k-1]))\n",
    "    return term1 - term2 - term3 \n",
    "\n",
    "def p3 (xval):\n",
    "    for i in range(len(x)-1):\n",
    "        if(x[i]<xval):\n",
    "            if(x[i+1] > xval):\n",
    "                break\n",
    "    func = s_ks(xval,i+1,c) \n",
    "    return func\n",
    "p3xr = np.zeros(len(xr))\n",
    "\n",
    "for i in range(3,len(xr)): #had to cut off the first 3 values in xr because it was messing with the plot\n",
    "    p3xr[i] = p3(xr[i])\n",
    "plt.plot(x,y,'o')\n",
    "plt.plot(xr,p3xr)\n",
    "print(p3(1.1),p3(2.2),p3(3.3),p3(4.4),p3(5.5),p3(6.6),p3(7.7),p3(8.8))"
   ]
  },
  {
   "cell_type": "markdown",
   "metadata": {},
   "source": [
    "# Part 4\n",
    "\n",
    "Use the same (x,y) dataset from Part 1.\n",
    "\n",
    "Here in Part 4, you will interpolate the data using a Fourier series / trigonometric functions.  Start by ensuring that you know what size of matrix you should use and the anticipated harmonics.  As well, you must estimate a periodicity for the data points so that you can specify a reasonable wavelength and wavenumber k to include in the functions.  Then, poplulate the matrix with the appropriate values from the trigonometric relations.  Once completed, call use your BackSub(A, b) function from Lab 4 to solve for the polynomial coefficients.  Once determined, the interpolated function can be calculated by the sum of the finite Fourier series.\n",
    "\n",
    "For output, plot the interpolated function from $ x = $ 0 to 9.5, along with the points from the data set.  As well, output the interpolated values for the following $x$-values:\n",
    "\n",
    "1.1, 2.2, 3.3, 4.4, 5.5, 6.6, 7.7, 8.8\n",
    "\n",
    "**QUESTION: Describe how you chose your value for the wavelength / wavenumber.**"
   ]
  },
  {
   "cell_type": "code",
   "execution_count": 428,
   "metadata": {},
   "outputs": [
    {
     "name": "stdout",
     "output_type": "stream",
     "text": [
      "0.3739991254273563\n",
      "[[-5.77179932]\n",
      " [-0.85874942]\n",
      " [ 5.0333759 ]\n",
      " [ 2.73445356]\n",
      " [ 0.97929488]\n",
      " [ 0.44327327]\n",
      " [-0.87398141]]\n",
      "[0.01963664]\n",
      "[0.23905201] [0.10045513] [0.14374743] [0.29841449] [0.15428912] [-0.01761352] [0.19334121] [0.09452508]\n"
     ]
    },
    {
     "data": {
      "image/png": "[encoded data removed]",
      "text/plain": [
       "<Figure size 432x288 with 1 Axes>"
      ]
     },
     "metadata": {
      "needs_background": "light"
     },
     "output_type": "display_data"
    }
   ],
   "source": [
    "wl = 16.8 \n",
    "k = 2*np.pi/wl\n",
    "print(k)\n",
    "D = np.zeros(len(x)**2)\n",
    "D = np.reshape(D,(len(x),len(x)))\n",
    "\n",
    "for i in range(len(x)):           \n",
    "    D[i,0] = 0.5\n",
    "    D[i,1] = np.cos(k*x[i])\n",
    "    D[i,2] = np.sin(k*x[i])\n",
    "    D[i,3] = np.cos(2*k*x[i])\n",
    "    D[i,4] = np.sin(2*k*x[i])\n",
    "    D[i,5] = np.cos(3*k*x[i])\n",
    "    D[i,6] = np.sin(3*k*x[i])#defining the matrix across\n",
    "\n",
    "a = np.linalg.solve(D,b)   #throwback to part one taking b\n",
    "print(a)\n",
    "def p4(xval):\n",
    "    yval = a[0]/2\n",
    "    i = 1\n",
    "    m = 1\n",
    "    while(i < len(x)):\n",
    "        yval = yval + a[i]*np.cos(m*k*xval)+a[i+1]*np.sin(m*k*xval)\n",
    "        i = i + 2\n",
    "        m += 1\n",
    "    return yval  \n",
    "p4xr = np.zeros(len(xr))\n",
    "for i in range(len(xr)):\n",
    "    p4xr[i] = p4(xr[i])\n",
    "    \n",
    "print(p4(0.5))\n",
    "print(p4(1.1),p4(2.2),p4(3.3),p4(4.4),p4(5.5),p4(6.6), p4(7.7), p4(8.8))\n",
    "plt.plot(x,y,'o')\n",
    "plt.plot(xr,p4xr)\n",
    "plt.show()"
   ]
  },
  {
   "cell_type": "markdown",
   "metadata": {},
   "source": [
    "# Part 5\n",
    "\n",
    "None of the interpolation methods was particularly perfect, which is surprising as the function is a fairly simple, symmetric one -- a Lorentzian\n",
    "\n",
    "$\\large Lorentzian(x) = \\frac{1}{\\pi} \\frac{\\Gamma}{(x-x_0)^2 + \\Gamma^2}$\n",
    "\n",
    "The actual, calculated values for the $x$-values\n",
    "\n",
    "1.1, 2.2, 3.3, 4.4, 5.5, 6.6, 7.7, 8.8\n",
    "\n",
    "are\n",
    "\n",
    "0.02677123, 0.05450512, 0.14403162, 0.31830989, 0.14403162, 0.05450512, 0.02677123, 0.01563408\n",
    "\n",
    "\n",
    "Discuss in a short paragraph which interpolation method you find to be the best choice for this Lorentzian function.  You may consider all aspects of the process such as error, usability, time to code, time to run, etc, and not simply the graphical output.  Some calculations to support your answer would also be reasonable."
   ]
  },
  {
   "cell_type": "markdown",
   "metadata": {},
   "source": [
    "The lorentzian function itself is not sinusoidal in nature, meaning the fourier series is not particularly useful for an accurate result. In fact, the method that produced a graph closest to a lorentzian was the Cubic Spline Interpolation. "
   ]
  },
  {
   "cell_type": "code",
   "execution_count": 465,
   "metadata": {},
   "outputs": [
    {
     "name": "stdout",
     "output_type": "stream",
     "text": [
      "\n",
      "Polynomial Error\n",
      "361355.4075411516\n",
      "\n",
      "Lagrange Error\n",
      "561.1292852445924\n",
      "\n",
      "Cubic Spline Error\n",
      "120.54600788028436\n",
      "\n",
      "Fourier Series Error\n",
      "399.58816779651846\n",
      "\n",
      "\n",
      "\n",
      "Polynomial Runtime\n",
      "CPU times: user 15 µs, sys: 0 ns, total: 15 µs\n",
      "Wall time: 17.9 µs\n",
      "\n",
      "Lagrange Runtime\n",
      "CPU times: user 52 µs, sys: 1e+03 ns, total: 53 µs\n",
      "Wall time: 55.1 µs\n",
      "\n",
      "Cubic Spline Runtime\n",
      "CPU times: user 23 µs, sys: 0 ns, total: 23 µs\n",
      "Wall time: 26.7 µs\n",
      "\n",
      "Fourier Series Runtime\n",
      "CPU times: user 72 µs, sys: 0 ns, total: 72 µs\n",
      "Wall time: 76.1 µs\n"
     ]
    },
    {
     "data": {
      "text/plain": [
       "array([0.23905201])"
      ]
     },
     "execution_count": 465,
     "metadata": {},
     "output_type": "execute_result"
    }
   ],
   "source": [
    "yreal = np.array([0.02677123,0.05450512,0.14403162,0.31830989, 0.05450512, 0.2677123, 0.01563408])\n",
    "p1y = np.zeros(len(yreal))\n",
    "p2y = np.zeros(len(yreal))\n",
    "p3y = np.zeros(len(yreal))\n",
    "p4y = np.zeros(len(yreal))\n",
    "for i in range (0, len(yreal)):\n",
    "    p1y[i] = p((i+1)*1.1)\n",
    "    p2y[i] = p2((i+1)*1.1)\n",
    "    p3y[i] = p3((i+1)*1.1)\n",
    "    p4y[i] = p4((i+1)*1.1)\n",
    "\n",
    "p1er = abs(p1y/yreal*100)\n",
    "p1ertot = np.sum(p1er)/len(p1er)\n",
    "print(\"\\nPolynomial Error\")\n",
    "print(p1ertot)\n",
    "p2er = abs(p2y/yreal*100)\n",
    "p2ertot = np.sum(p2er)/len(p2er)\n",
    "print(\"\\nLagrange Error\")\n",
    "print(p2ertot)\n",
    "p3er = abs(p3y/yreal*100)\n",
    "p3ertot = np.sum(p3er)/len(p3er)\n",
    "print(\"\\nCubic Spline Error\")\n",
    "print(p3ertot)\n",
    "p4er = abs(p4y/yreal*100)\n",
    "p4ertot = np.sum(p4er)/len(p4er)\n",
    "print(\"\\nFourier Series Error\")\n",
    "print(p4ertot)\n",
    "\n",
    "print(\"\\n\")\n",
    "print(\"\\nPolynomial Runtime\")\n",
    "%time p(1.1)\n",
    "print(\"\\nLagrange Runtime\")\n",
    "%time p2(1.1)\n",
    "print(\"\\nCubic Spline Runtime\")\n",
    "%time p3(1.1)\n",
    "print(\"\\nFourier Series Runtime\")\n",
    "%time p4(1.1)"
   ]
  },
  {
   "cell_type": "markdown",
   "metadata": {},
   "source": [
    "As seen above, the cubic spline function also resulted in the least error of only 120 percent. This shows that the cubic spline function is the best function to use to fit to the lorentzian function. The functions runtimes were relatively small and similar, but the polynomial function has a a slightly faster runtime. The cubic spline function has the second fastest with 23 microseconds. The cubic spline function was the most difficult to code but its usability is very simple, as are all the other functions because they run the same way (one variable input). "
   ]
  },
  {
   "cell_type": "markdown",
   "metadata": {},
   "source": [
    "## Acknowledgements\n",
    "\n",
    "Please comment on any help that you received from your group members or others concerning this Lab assignment."
   ]
  },
  {
   "cell_type": "markdown",
   "metadata": {},
   "source": []
  }
 ],
 "metadata": {
  "kernelspec": {
   "display_name": "Python 3",
   "language": "python",
   "name": "python3"
  },
  "language_info": {
   "codemirror_mode": {
    "name": "ipython",
    "version": 3
   },
   "file_extension": ".py",
   "mimetype": "text/x-python",
   "name": "python",
   "nbconvert_exporter": "python",
   "pygments_lexer": "ipython3",
   "version": "3.8.5"
  }
 },
 "nbformat": 4,
 "nbformat_minor": 4
}
