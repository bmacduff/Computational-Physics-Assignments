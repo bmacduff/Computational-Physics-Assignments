{
 "cells": [
  {
   "cell_type": "markdown",
   "metadata": {},
   "source": [
    "# ENPH 213 - Week 9 Lab - Part 5\n",
    "\n",
    "In this lab, we will be working on numerically solving ordinary differential equations and continuing to develop your Python skills.\n",
    "\n",
    "When you are finished, please rename this notebook to LastName_ENPH213_Lab9-Part5, where LastName is your last name.  Submit that file to onQ.\n",
    "\n",
    "For marking Parts 1-4 will be marked together (Weighted out of 10) and Part 5 will be marked out of 5."
   ]
  },
  {
   "cell_type": "code",
   "execution_count": 1,
   "metadata": {},
   "outputs": [],
   "source": [
    "import numpy as np\n",
    "from matplotlib import pyplot as plt"
   ]
  },
  {
   "attachments": {
    "Finite_Potential_Well_Symmetric.png": {
     "image/png": "[encoded data removed]"
    }
   },
   "cell_type": "markdown",
   "metadata": {},
   "source": [
    "# Part 5\n",
    "\n",
    "The Schroedinger equation for a particle in a box reduces to a relatively simple differential equation.\n",
    "\n",
    "$\\Large \\frac{d^2 \\phi}{dx^2} = (V-E) \\phi$\n",
    "\n",
    "Where the right hand side is simply a constant times $\\phi$.  Note that for simplicity, I'm going to choose units such that $\\hbar^2/2m = 1$.\n",
    "\n",
    "There are 3 regions of interest, the quantum well that extends from $-L < x < L$ where the potential $V = 0$, and the regions $x \\leq L$ and $x \\geq L$ where $V = V$.  The difficulty is at the boundary where the values for $\\phi(x)$ and $\\phi^\\prime(x)$ should be continuous.  With these three regions, the process to solve the provlem is to do each region separately and match them together.\n",
    "\n",
    "We will this problem using the 2nd Order Central Difference solver discussed in class and used previously.  Note that with 2nd order ODEs, you need 2 initial conditions to get started. However, we do not know E, which will be solved for interatively. \n",
    "\n",
    "Use the following parameters in you solution. Use 1000 points stretching from -10 to 10.  The quantum well (where V = 0) will occupy from $-2 < x < 2$.  Outside of this region, the potential $ V = 30 $.\n",
    "\n",
    "To start, run the algorithm from -10 to -2.  You will need 2 points to start so set the first two points of $\\phi$ to be $\\phi[0] = \\phi[1] = 0.00001$. \n",
    "\n",
    "In the second step, run the algortithm backwards from 10 to 2 (in the right hand barrier).  Again, you will need 2 points to start so set the last two points of $\\phi$ to be $\\phi[-1] = \\phi[-2] = 0.00001$.\n",
    "\n",
    "The value for $E$ isn't critical in the barrier regions as it is much smaller than V.  You can set it to something small ($E=1$) for now.\n",
    "\n",
    "To check your progress to this point, you should have exponentially decaying curves from 2 to 10 on either side.\n",
    "\n",
    "For the middle, quantum well region, the result is only dependent on $E$ and is in fact negative because $V=0$.  Again you can use the 2nd Order Central difference solver.  This time, you can take the first 2 point to be the last 2 points of the first region below $x = -2$.  This will enforce continuity of the function and the slope.\n",
    "\n",
    "The solution in the middle section is an oscillation.  The value of the ground state has $0 < E < 1$.  So, you need to guess a value for E, run the ODE solver, and then assess whether the value should of $E$ should be increased or decreased.  The assessment is whether the last point of the middle section is within a limit of the value at $x=2$ from the right hand barrier calculation.  This forces continuity of $\\phi$.  $\\phi^\\prime$ is not necessarily continuous, but we will neglect that condition for simplicity.\n",
    "\n",
    "For the iteration and assessment for $E$, I recommend using steps in $E$ of $\\pm 0.0001$, and that $\\frac{\\phi(2) - \\phi(2+h)}{ \\phi(2+h)} < 0.001$, where $h$ is the distance between 2 points and $\\phi(2+h)$ is the last point calcuted in the second step (right hand barrier).\n",
    "\n",
    "Now that you have the ground state energy calculated (print this result), plot the result, which should show a central peak and a wave function exponentially decaying into the barriers.  Also, plot $\\phi^2(x)$, which is the expectation value within the quantum well.\n",
    "\n",
    "This is for the first energy level of the quantum well, $n=1$.  Solve the solution 4 more times for $n = 2, 3, 4, 5$.  For your initial guesses, remember than quantum well energies of excited states are $E(n) = n^2 E(1)$.  (Note that for $n=2, 4$, the middle section will end up negative.  To remedy this, make the points in the right hand barrier negative.)  Print the energies of these levels as well as the graphs for $\\phi(x)$ and $\\phi^2(x)$.\n",
    "\n",
    "Finally, run your code with an initial guess of $E = 40$. Plot the result.  **Question:  Is this result consistent with the physics of the situation?**\n",
    "\n",
    "![Finite_Potential_Well_Symmetric.png](attachment:Finite_Potential_Well_Symmetric.png)"
   ]
  },
  {
   "cell_type": "code",
   "execution_count": 176,
   "metadata": {},
   "outputs": [],
   "source": [
    "def Schroed(phi,V,E): #defining the schroedinger equation\n",
    "    return (V-E)*phi\n",
    "\n",
    "def ODESolve(Phi_0,Phi_1,R,N,V,E,f): #function takes 2 initial conditions, a range, number of points, V and E and a function\n",
    "    h = (R[-1]-R[0])/(N-1)\n",
    "    Phi = np.zeros(N)\n",
    "    if(R[-1] >= 0): #checks if it needs to solve it backwards or forwards\n",
    "        Phi[0] = Phi_0\n",
    "        Phi[1] = Phi_1 #creating phi array and implementing initial conditions\n",
    "\n",
    "        for i in range(1,N-1):\n",
    "            Phi[i+1] = h**2 * f(Phi[i],V,E) - Phi[i-1] + 2*Phi[i]\n",
    "    \n",
    "    if(R[-1] < 0): #similar to forward solving with some indexing changes\n",
    "        Phi[-1] = Phi_0\n",
    "        Phi[-2] = Phi_1 #creating phi array and implementing initial conditions\n",
    "\n",
    "        for i in range(N-2,0,-1):\n",
    "            Phi[i-1] = h**2 * f(Phi[i],V,E) - Phi[i+1] + 2*Phi[i]\n",
    "        \n",
    "    return Phi #returns the Phi array\n",
    "\n",
    "def E(I_0,I_1,Guess, Edge, R, N, V):\n",
    "    Mid = ODESolve(I_0, I_1, R, N, V, Guess, Schroed) #using the above function with the guess for E\n",
    "    while((((Mid[-1])-Edge)/Edge) > 0.001): #condition for threshold\n",
    "        Guess += 0.0001 #iterates through adding 0.0001 to the guess everytime until its within the threshold\n",
    "        Mid = ODESolve(I_0, I_1, R, N, V, Guess, Schroed)\n",
    "        \n",
    "    E = Guess \n",
    "    return E\n",
    "\n",
    "#functions needed are now defined"
   ]
  },
  {
   "cell_type": "code",
   "execution_count": 177,
   "metadata": {},
   "outputs": [
    {
     "data": {
      "text/plain": [
       "[<matplotlib.lines.Line2D at 0x7fe2c6f7dc70>]"
      ]
     },
     "execution_count": 177,
     "metadata": {},
     "output_type": "execute_result"
    },
    {
     "data": {
      "image/png": "[encoded data removed]",
      "text/plain": [
       "<Figure size 432x288 with 1 Axes>"
      ]
     },
     "metadata": {
      "needs_background": "light"
     },
     "output_type": "display_data"
    }
   ],
   "source": [
    "x = np.linspace(-10,10,1000) #defining the total range\n",
    "RS = ODESolve(0.00001,0.00001,[-10,-2], 400, 30, 1, Schroed) #this creates the left side past the well\n",
    "LS = ODESolve(0.00001,0.00001, [10,2], 400, 30, 1, Schroed) #this creates the right side past the well\n",
    "\n",
    "E1 = E(LS[-2], LS[-1], 0.0001 , RS[0], [-2,2], 200, 0) #finding E with the initial conditions from the above solved equations\n",
    "\n",
    "MS = ODESolve(LS[-2],LS[-1], [-2,2], 200, 0, E1, Schroed) #Mid section being solved with 0 potential and the E found above\n",
    "\n",
    "plt.plot(x[:400],LS)\n",
    "plt.plot(x[600:],RS)\n",
    "plt.plot(x[400:600],MS)"
   ]
  },
  {
   "cell_type": "code",
   "execution_count": 178,
   "metadata": {},
   "outputs": [
    {
     "data": {
      "text/plain": [
       "[<matplotlib.lines.Line2D at 0x7fe2c78b97c0>]"
      ]
     },
     "execution_count": 178,
     "metadata": {},
     "output_type": "execute_result"
    },
    {
     "data": {
      "image/png": "[encoded data removed]",
      "text/plain": [
       "<Figure size 432x288 with 1 Axes>"
      ]
     },
     "metadata": {
      "needs_background": "light"
     },
     "output_type": "display_data"
    }
   ],
   "source": [
    "plt.plot(x[:400],LS**2)\n",
    "plt.plot(x[600:],RS**2)\n",
    "plt.plot(x[400:600],MS**2)"
   ]
  },
  {
   "cell_type": "markdown",
   "metadata": {},
   "source": [
    "## Acknowledgements\n",
    "\n",
    "Please comment on any help that you received from your group members or others concerning this Lab assignment."
   ]
  },
  {
   "cell_type": "markdown",
   "metadata": {},
   "source": []
  }
 ],
 "metadata": {
  "kernelspec": {
   "display_name": "Python 3",
   "language": "python",
   "name": "python3"
  },
  "language_info": {
   "codemirror_mode": {
    "name": "ipython",
    "version": 3
   },
   "file_extension": ".py",
   "mimetype": "text/x-python",
   "name": "python",
   "nbconvert_exporter": "python",
   "pygments_lexer": "ipython3",
   "version": "3.8.5"
  }
 },
 "nbformat": 4,
 "nbformat_minor": 4
}
