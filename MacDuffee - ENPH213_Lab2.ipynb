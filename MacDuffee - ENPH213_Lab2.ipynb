{
 "cells": [
  {
   "cell_type": "markdown",
   "metadata": {},
   "source": [
    "# ENPH 213 - Week 2 Lab\n",
    "In this lab, we will be working with Numerical Integration while continuing to develop your Python skills.\n",
    "\n",
    "There is an accompanying file (ENPH213_Lab2_Hysteresis-Data.csv) that should be downloaded to the same folder as this notebook.  When you are finished, please rename this notebook to LastName_ENPH213_Lab2, where LastName is your last name.  Submit that file to onQ."
   ]
  },
  {
   "cell_type": "markdown",
   "metadata": {},
   "source": [
    "## Part 1\n",
    "Load the data from \"ENPH213_Lab2_Hysteresis-Data.csv\", and plot the curve of v$_y$ as a function of v$_x$.  Before you being, open the file in a text editor so that you know the format of the data and can manipulate it properly."
   ]
  },
  {
   "cell_type": "code",
   "execution_count": 2,
   "metadata": {},
   "outputs": [],
   "source": [
    "import numpy as np\n",
    "from matplotlib import pyplot as plt\n",
    "%matplotlib inline"
   ]
  },
  {
   "cell_type": "code",
   "execution_count": 17,
   "metadata": {},
   "outputs": [
    {
     "data": {
      "text/plain": [
       "[<matplotlib.lines.Line2D at 0x7fcd2e1c7160>]"
      ]
     },
     "execution_count": 17,
     "metadata": {},
     "output_type": "execute_result"
    },
    {
     "data": {
      "image/png": "[encoded data removed]",
      "text/plain": [
       "<Figure size 432x288 with 1 Axes>"
      ]
     },
     "metadata": {
      "needs_background": "light"
     },
     "output_type": "display_data"
    }
   ],
   "source": [
    "part1data = np.loadtxt(\"ENPH213_Lab2_Hysteresis-Data.csv\", skiprows = 1, delimiter = ',') # skips first row and commas\n",
    "part1data\n",
    "vx = part1data[:,1] # only takes second column\n",
    "vy = part1data[:,2] # only takes third column\n",
    "fig = plt.figure()\n",
    "ax = fig.add_axes([0,0,1,1])\n",
    "ax.plot(vx,vy)"
   ]
  },
  {
   "cell_type": "markdown",
   "metadata": {},
   "source": [
    "## Part 2\n",
    "In the Part 3, you will be asked to find the area between the two curves.  In a few sentences, first indicate what algorithm you would like to use and why.  Then, describe how you will get the area considering how the data is presented."
   ]
  },
  {
   "cell_type": "markdown",
   "metadata": {},
   "source": []
  },
  {
   "cell_type": "markdown",
   "metadata": {},
   "source": [
    "I will use Simpsons Rule because of its simplicity and my familiarity with it. I will have to split the data into \n",
    "two different arrays to prevent overlap and then calculate the area under the two separate curves and then subtract them afterwards to find total area."
   ]
  },
  {
   "cell_type": "markdown",
   "metadata": {},
   "source": [
    "## Part 3\n",
    "Create a function myIntFunc(x,y) that calculates the area of a hysteresis curve, such as the one you plotted above, where x and y are the input vectors of the x- and y-axes, respectively.  Of note, comment on what form the vectors should take to have the function operate properly.  Have the function output the area. (Hint: my value was in the range 0.04 and 0.05)"
   ]
  },
  {
   "cell_type": "code",
   "execution_count": 48,
   "metadata": {},
   "outputs": [
    {
     "name": "stdout",
     "output_type": "stream",
     "text": [
      "0.046578639216666745\n"
     ]
    }
   ],
   "source": [
    "vx1 = vx[0:334] # midpoint when x starts decreasing \n",
    "vx2 = vx[-1:333:-1] # data is decreasing so it is reversed for simplicity\n",
    "\n",
    "vy1 = vy[0:334] # have to split y as well \n",
    "vy2 = vy[-1:333:-1] # have to reverse to keep with x values\n",
    "\n",
    "\n",
    "def myIntFunction(x,y):\n",
    "    int = 0 #initialize to 0\n",
    "    for i in range(0,len(x)-2,2): #start at 0, go until two less than total length, increments of 2\n",
    "        h = (x[i+2]-x[i])*0.5 # finding h by averaging two endpoints\n",
    "        int = int + (y[i]+4*y[i+1]+y[i+2])*(h/3) # simpsons 1 4 1 rule for \n",
    "    return int\n",
    "\n",
    "area1 = myIntFunction(vx1,vy1) #area under first half of data values\n",
    "area2 = myIntFunction(vx2,vy2) #area under second half of data values\n",
    "\n",
    "areatot = abs(area1-area2) # total area between data values\n",
    "print(areatot)\n",
    "            \n"
   ]
  },
  {
   "cell_type": "markdown",
   "metadata": {},
   "source": [
    "## Part 4\n",
    "\n",
    "One interesting function that appears often and exists as a integral function is the Guass Error Function or more commonly simply the Error Function.  It is written as erf(x) and has the form:\n",
    "\n",
    "$ erf(x) = \\frac{2}{\\sqrt\\pi} \\int_0^x e^{-z^2} dz$\n",
    "\n",
    "Write a function myErf(x, N) using Simpson's 1/3 Rule (itself a separate function) to evaluate the Error Function for an input x and a number of points to evaluate N.  \n",
    "\n",
    "Then evaluate myErf for x = 0.213, but determine how many points N are needed to be within 0.000 01 of the accepted value (Google calculated this for me: 0.2367589703)."
   ]
  },
  {
   "cell_type": "code",
   "execution_count": 7,
   "metadata": {},
   "outputs": [
    {
     "name": "stdout",
     "output_type": "stream",
     "text": [
      "22969  points N are needed get within 9.999765653356807e-06  of the accepted value\n"
     ]
    }
   ],
   "source": [
    "def func(x): # define the main function to save time \n",
    "    return np.e**(-x**2)\n",
    "\n",
    "def Simpsons(x1,x2,N): #defining simpsons rule to use for the error function\n",
    "    int = 0\n",
    "    h = (x2-x1)/N \n",
    "    for i in range(1,N-1,2): # similar process to part 3 \n",
    "        xi = x1 + h*i\n",
    "        int = int + func(xi-h) + 4*func(xi) + func(xi+h)\n",
    "        \n",
    "    int = int*(h/3)\n",
    "    return int\n",
    "\n",
    "def myErf(x,N):\n",
    "    return (2/(np.sqrt(np.pi)))*Simpsons(0,x,N)\n",
    "\n",
    "for i in range (2, 30000, 1):\n",
    "    erf = myErf(0.213, i) #run the error function through each i \n",
    "    diff = abs(0.2367589703 - erf)\n",
    "    if diff < 0.00001: # breaks once the value is within this number\n",
    "        break\n",
    "        break\n",
    "print(i, \" points N are needed get within\", diff, \" of the accepted value\")"
   ]
  },
  {
   "cell_type": "markdown",
   "metadata": {},
   "source": [
    "## Part 5\n",
    "\n",
    "Using Simpson's Rule, calculate the following double integral:\n",
    "\n",
    "$ \\Omega  = \\int_{y=0}^{\\pi/2} \\int_{x=0}^{\\pi} \\sqrt{x+y} \\sin(x) \\cos(y) dx dy $\n",
    "\n",
    "Using N = 101 points in each direction, my calculation for $\\Omega$ was between 2.0 and 3.0.  Aim to do this question using a matrix of weighting coefficients.  Full marks will be given if no loops are used."
   ]
  },
  {
   "cell_type": "code",
   "execution_count": 3,
   "metadata": {},
   "outputs": [
    {
     "name": "stdout",
     "output_type": "stream",
     "text": [
      "[[ 1.  4.  2. ...  2.  4.  1.]\n",
      " [ 4. 16.  8. ...  8. 16.  4.]\n",
      " [ 2.  8.  4. ...  4.  8.  2.]\n",
      " ...\n",
      " [ 2.  8.  4. ...  4.  8.  2.]\n",
      " [ 4. 16.  8. ...  8. 16.  4.]\n",
      " [ 1.  4.  2. ...  2.  4.  1.]]\n"
     ]
    },
    {
     "data": {
      "text/plain": [
       "2.8700438107223696"
      ]
     },
     "execution_count": 3,
     "metadata": {},
     "output_type": "execute_result"
    }
   ],
   "source": [
    "def func(x,y):\n",
    "    return np.sqrt(x+y)*np.sin(x)*np.cos(y) #main function that is being integrated\n",
    "N=101\n",
    "x0=0\n",
    "x1=np.pi\n",
    "y0=0\n",
    "y1=np.pi/2 #using these as the limits of the integration\n",
    "\n",
    "hx = abs((x1-x0)/(N-1))\n",
    "hy = abs((y1-y0)/(N-1)) \n",
    "\n",
    "x = np.linspace(x0,x1,N)\n",
    "y = np.linspace(y0,y1,N) #arrays of x and y values through limits of integration\n",
    "\n",
    "funcpoints = func(x,y)\n",
    "\n",
    "WeightedMtx = np.ones(N)\n",
    "WeightedMtx[1:N:2] = 4\n",
    "WeightedMtx[2:-2:2] = 2 #weighted matrix with values of simpsons rule \n",
    "WeightedMtx = np.outer(WeightedMtx,WeightedMtx)\n",
    "print(WeightedMtx)\n",
    "\n",
    "int = 0 \n",
    "int = (hx*hy)/9*np.sum(funcpoints*WeightedMtx) #multiplying the two functions together\n",
    "int"
   ]
  },
  {
   "cell_type": "markdown",
   "metadata": {},
   "source": [
    "## Part 6: See separate notebook\n",
    "\n",
    "## Acknowledgements\n",
    "\n",
    "Please comment on any help that you received from your group members or others concerning this Lab assignment."
   ]
  },
  {
   "cell_type": "markdown",
   "metadata": {},
   "source": [
    "Teammates helped a lot with part 4 and properly using simpsons with weighted matrix. Had to look for a lot of help for most of 6"
   ]
  },
  {
   "cell_type": "code",
   "execution_count": null,
   "metadata": {},
   "outputs": [],
   "source": []
  }
 ],
 "metadata": {
  "kernelspec": {
   "display_name": "Python 3",
   "language": "python",
   "name": "python3"
  },
  "language_info": {
   "codemirror_mode": {
    "name": "ipython",
    "version": 3
   },
   "file_extension": ".py",
   "mimetype": "text/x-python",
   "name": "python",
   "nbconvert_exporter": "python",
   "pygments_lexer": "ipython3",
   "version": "3.8.5"
  }
 },
 "nbformat": 4,
 "nbformat_minor": 4
}
