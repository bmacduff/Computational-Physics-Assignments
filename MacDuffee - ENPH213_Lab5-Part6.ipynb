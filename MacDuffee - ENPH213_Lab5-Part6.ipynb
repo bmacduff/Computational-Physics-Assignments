{
 "cells": [
  {
   "cell_type": "markdown",
   "metadata": {},
   "source": [
    "# ENPH 213 - Week 5 Lab - Part 6\n",
    "\n",
    "In this lab, we will be working on solving non-linear equations using a variety of methods while continuing to develop your Python skills.\n",
    "\n",
    "When you are finished, please rename this notebook to LastName_ENPH213_Lab5-Part6, where LastName is your last name.  Submit that file to onQ along with the notebook for Parts 1-5. \n",
    "\n",
    "For marking Parts 1-4 will be marked together (Weighted out of 10) and Parts 5 and 6 will be marked together (Weighted out of 5)."
   ]
  },
  {
   "cell_type": "code",
   "execution_count": 11,
   "metadata": {},
   "outputs": [],
   "source": [
    "import numpy as np\n",
    "from matplotlib import pyplot as plt\n",
    "def GaussPivot(Ab,col): #copy and pasted from last week because I was having trouble with other method\n",
    "    for i in range(1,len(Ab)-col):\n",
    "        if abs(Ab[col, col]) < abs(Ab[(col+i),col]): #checks if any of the values below are greater\n",
    "            Ab[[col,(col+i)],:] = Ab[[(col+i),col],:] #switches the values if they are\n",
    "    return Ab\n",
    "def GaussElim(Ab,col):\n",
    "    GaussPivot(Ab,col)\n",
    "    for i in range(1,len(Ab)-col): \n",
    "        Mult = Ab[(col+i),(col)]/Ab[col,col] #the initial value of the row that is used for subtraction divided by the value of the first element in the row that is being subtracted from \n",
    "        Ab[col+i,col:] = Ab[(col+i),col:]-Mult*Ab[col,col:] #subtracts the two rows \n",
    "    return Ab\n",
    "def UpTriang(A,b):\n",
    "    Ab = np.concatenate([A,np.transpose(b)],1)#adds the b matrix to the A one\n",
    "    for i in range(0,len(A)-1): \n",
    "        Ab = GaussElim(Ab,i) #runs through for each column in the matrix\n",
    "    return Ab\n",
    "def BackSub(A,b):\n",
    "    Ab = UpTriang(A,b)\n",
    "    xvalues = np.ones(len(A)) #initialize the x value array\n",
    "    Ab[0:len(A),len(A)] = -1*Ab[0:len(A),len(A)] #makes it easier to add up \n",
    "    for i in range(len(A)):\n",
    "        xvalues[len(A)-1-i] = -(np.sum(Ab[len(A)-i-1,len(A)-i:]))/Ab[len(A)-1-i,len(A)-1-i] #takes the sum of all the values after the first one in a row\n",
    "        Ab[:len(A)-i-1,len(A)-1-i] = (xvalues[len(A)-1-i])*Ab[0:len(A)-i-1,len(A)-i-1] #multiplies the previously solved x value by the column\n",
    "    return xvalues"
   ]
  },
  {
   "cell_type": "markdown",
   "metadata": {},
   "source": [
    "# Part 6\n",
    "\n",
    "Find the roots to following set of functions\n",
    "\n",
    "$\\Large f_1(x,y,z) = 2x - y \\cos z - 3 \\\\\n",
    "\\Large f_2(x,y,z) = x^2 - 25(y - 2)^2 + \\sin z - \\frac{\\pi}{10} \\\\\n",
    "\\Large f_3(x,y,z) = 7xe^y - 17z + 8\\pi$\n",
    "\n",
    "To solve this system of functions, use the generalized Newton's Method as discussed in class.  Use the Jacobian Matrix, and construct it by analytically/symbollically calculating the partial derivatives for its elements.  Iterate the solutions of the matrix equations by adding the evaluated steps back into the previous guess values for $x$, $y$, and $z$.  For this question, you may fulfill the iteration sensitivity when either the total of the step components or the total of the residual function values acheives an error less than 0.00001.\n",
    "\n",
    "Provide the determine roots of the set of functions as well as the number of iterations needed.\n",
    "\n",
    "**Note:** You will need the $BackSub(A, b)$ and related functions from Lab 4 to perform the matrix calculations.  To do this, from your Lab 4 Jupyter notebook, select \"File-->Download as-->Python (.py)\".  Save this file as \"Lab4.py\" in the directory of this notebook.  Then below, add the line \"from Lab4 import BackSub\".  It may load and perform all computations, but you will not have access to your previous functions in this notebook.  If you click on the margin beside this cell, it will reduce in size.  If you double click, it should completely collapse."
   ]
  },
  {
   "cell_type": "code",
   "execution_count": 17,
   "metadata": {},
   "outputs": [
    {
     "name": "stdout",
     "output_type": "stream",
     "text": [
      "[0.53897741 1.93684349 3.01789801]\n"
     ]
    }
   ],
   "source": [
    "def f1(x): #defining it in terms of an array\n",
    "    return 2*x[0]-x[1]*np.cos(x[2])-3\n",
    "\n",
    "def f2(x):\n",
    "    return x[0]**2-25*(x[1]-2)**2+np.sin(x[2])-np.pi/10\n",
    "\n",
    "def f3(x):\n",
    "    return 7*x[0]*np.exp(x[1])-17*x[2]+8*np.pi\n",
    "    \n",
    "def FuncArray(x):\n",
    "    return -1*np.reshape([f1(x),f2(x),f3(x)], (1,3)) #have to put the functions into a function array to work with the matrix functions\n",
    "\n",
    "def fderiv(f,x): #function to calculate derivative values\n",
    "    I = np.zeros((len(x),len(x)))    \n",
    "    dval = np.zeros((len(x),len(x)))\n",
    "    for j in range(0, len(x)):\n",
    "        I[j,j] = 0.01\n",
    "    for i in range(0,len(x)):       \n",
    "        dval[i] = np.array((f(x - I[:,i]) - f(x))/0.01)\n",
    "    return np.transpose(dval) #put everything in the proper order\n",
    "\n",
    "def Newton(f, g): #similar method as used in part 2\n",
    "    for x in range(1,10000):     #choosing a very large range randomly\n",
    "        h = BackSub(fderiv(f, g), f(g))    \n",
    "        g = g + h                          \n",
    "        if np.sum(abs(f(g))) < 0.00001:     #break when within threshold  \n",
    "            break\n",
    "    return g \n",
    "\n",
    "print(Newton(FuncArray,[0,0,0]))"
   ]
  },
  {
   "cell_type": "markdown",
   "metadata": {},
   "source": [
    "## Acknowledgements\n",
    "\n",
    "Please comment on any help that you received from your group members or others concerning this Lab assignment."
   ]
  },
  {
   "cell_type": "markdown",
   "metadata": {},
   "source": []
  }
 ],
 "metadata": {
  "kernelspec": {
   "display_name": "Python 3",
   "language": "python",
   "name": "python3"
  },
  "language_info": {
   "codemirror_mode": {
    "name": "ipython",
    "version": 3
   },
   "file_extension": ".py",
   "mimetype": "text/x-python",
   "name": "python",
   "nbconvert_exporter": "python",
   "pygments_lexer": "ipython3",
   "version": "3.8.5"
  }
 },
 "nbformat": 4,
 "nbformat_minor": 4
}
