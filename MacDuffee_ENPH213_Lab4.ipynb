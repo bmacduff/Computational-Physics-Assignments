{
 "cells": [
  {
   "cell_type": "markdown",
   "metadata": {},
   "source": [
    "# ENPH 213 - Week 4 Lab\n",
    "In this lab, we will be working on solving systems of linear equations using the Gaussian Elimination method while continuing to develop your Python skills.\n",
    "\n",
    "When you are finished, please rename this notebook to LastName_ENPH213_Lab4, where LastName is your last name.  Submit that file to onQ.\n",
    "\n",
    "For marking Parts 1-4 will be marked together (Weighted out of 10) and Parts 5 and 6 will be marked together (Weighted out of 5)."
   ]
  },
  {
   "cell_type": "markdown",
   "metadata": {},
   "source": [
    "## Part 1\n",
    "\n",
    "Write a function $GaussPivot(Ab, col)$ that inputs an augmented matrix $Ab$ of an $N \\times N$ matrix/2D array $A$ and vector/2D array $b$ of the size $N \\times 1$.  The $col$ input to the function is the column that of the pivot element ot be assessed.  For this Part, the goal is to simulate finding those rows that would need to be pivoted in a Gaussian Elimination procedure, and no \"zeroing\" of columns is needed.  Remember that for a generic column $col$ input, a pivot point of $A_{jj}$ means that the pivot row is the same index as the column being reduced and only rows below $A_{jj}$ need to be considered.\n",
    "\n",
    "Start with the following arrays. \n",
    "\n",
    "$A = \\begin{bmatrix}\n",
    "    10 & 9 & 8 & 7 \\\\\n",
    "    1  & 2 & 3 & 4 \\\\\n",
    "    6  & 6 & 3 & 2 \\\\\n",
    "    1  & 5 & 4 & 7\n",
    "\\end{bmatrix}\n",
    ",\\ \\ \\ b = \\begin{bmatrix}\n",
    "    6  \\\\\n",
    "    5  \\\\\n",
    "    1  \\\\\n",
    "    9  \n",
    "\\end{bmatrix}$\n",
    "\n",
    "When using the augmented matrix $Ab$, the pivoted matrices I calculated are (for $col = 0, 1, 2$)\n",
    "\n",
    "$A = \\begin{bmatrix}\n",
    "    10 & 9 & 8 & 7 \\\\\n",
    "    1  & 2 & 3 & 4 \\\\\n",
    "    6  & 6 & 3 & 2 \\\\\n",
    "    1  & 5 & 4 & 7\n",
    "\\end{bmatrix}\n",
    ",A = \\begin{bmatrix}\n",
    "    10 & 9 & 8 & 7 \\\\\n",
    "    6  & 6 & 3 & 2 \\\\\n",
    "    1  & 2 & 3 & 4 \\\\\n",
    "    1  & 5 & 4 & 7\n",
    "\\end{bmatrix}\n",
    ",A = \\begin{bmatrix}\n",
    "    10 & 9 & 8 & 7 \\\\\n",
    "    1  & 2 & 3 & 4 \\\\\n",
    "    1  & 5 & 4 & 7 \\\\\n",
    "    6  & 6 & 3 & 2 \n",
    "\\end{bmatrix}$"
   ]
  },
  {
   "cell_type": "code",
   "execution_count": 1,
   "metadata": {},
   "outputs": [],
   "source": [
    "import numpy as np\n",
    "from matplotlib import pyplot as plt\n",
    "%matplotlib inline"
   ]
  },
  {
   "cell_type": "code",
   "execution_count": 2,
   "metadata": {},
   "outputs": [
    {
     "data": {
      "text/plain": [
       "array([[10.,  9.,  8.,  7.,  6.],\n",
       "       [ 1.,  2.,  3.,  4.,  5.],\n",
       "       [ 6.,  6.,  3.,  2.,  1.],\n",
       "       [ 1.,  5.,  4.,  7.,  9.]])"
      ]
     },
     "execution_count": 2,
     "metadata": {},
     "output_type": "execute_result"
    }
   ],
   "source": [
    "A = np.array([[10.,9.,8.,7.],[1.,2.,3.,4.],[6.,6.,3.,2.],[1.,5.,4.,7.]])\n",
    "\n",
    "b = np.array([[6.,5.,1.,9.]])\n",
    "\n",
    "Ab = np.concatenate([A,np.transpose(b)],1)\n",
    "\n",
    "def GaussPivot(Ab,col):\n",
    "    for i in range(1,len(Ab)-col):\n",
    "        if abs(Ab[col, col]) < abs(Ab[(col+i),col]): #checks if any of the values below are greater\n",
    "            Ab[[col,(col+i)],:] = Ab[[(col+i),col],:] #switches the values if they are\n",
    "    return Ab\n",
    "GaussPivot(Ab,0)\n"
   ]
  },
  {
   "cell_type": "markdown",
   "metadata": {},
   "source": [
    "## Part 2\n",
    "\n",
    "Write a function GaussElim(Ab, col) that inputs an augmented matrix $Ab$ of an $N \\times N$ matrix/2D array $A$ and vector/2D array $b$ of the size $N \\times 1$.  The $col$ input to the function is the column that of the pivot element, which will have zeros underneath.  For this Part, the goal is to only have zeros under the first pivot element ($A_{00}$), so col = 0.  It does _not_ have to put the matrix in triangular form.  Pivoting should be included in the function using the $GaussPivot(Ab, col)$ function above.\n",
    "\n",
    "When I entered the $Ab$ array from Part 1, I got the result:\n",
    "\n",
    "$Ab = \\begin{bmatrix}\n",
    "    10 & 9 & 8 & 7 & 6\\\\\n",
    "    0  & 1.1 & 2.2 & 3.3 & 4.4 \\\\\n",
    "    0  & 0.6 & -1.8 & -2.2 & -2.6\\\\\n",
    "    0  & 4.1 & 3.2 & 6.3 & 8.4\n",
    "\\end{bmatrix}$"
   ]
  },
  {
   "cell_type": "code",
   "execution_count": 3,
   "metadata": {},
   "outputs": [
    {
     "data": {
      "text/plain": [
       "array([[10. ,  9. ,  8. ,  7. ,  6. ],\n",
       "       [ 0. ,  1.1,  2.2,  3.3,  4.4],\n",
       "       [ 0. ,  0.6, -1.8, -2.2, -2.6],\n",
       "       [ 0. ,  4.1,  3.2,  6.3,  8.4]])"
      ]
     },
     "execution_count": 3,
     "metadata": {},
     "output_type": "execute_result"
    }
   ],
   "source": [
    "def GaussElim(Ab,col):\n",
    "    GaussPivot(Ab,col)\n",
    "    for i in range(1,len(Ab)-col): \n",
    "        Mult = Ab[(col+i),(col)]/Ab[col,col] #the initial value of the row that is used for subtraction divided by the value of the first element in the row that is being subtracted from \n",
    "        Ab[col+i,col:] = Ab[(col+i),col:]-Mult*Ab[col,col:] #subtracts the two rows \n",
    "    return Ab\n",
    "GaussElim(Ab,0)"
   ]
  },
  {
   "cell_type": "markdown",
   "metadata": {},
   "source": [
    "## Part 3\n",
    "\n",
    "Write a third function UpTriang(A, b) that inputs an $N \\times N$ matrix/2D array $A$ and vector/2D array $b$ of the size $N \\times 1$.  This function should output an augmented matrix in upper triangular form.  In UpTriang(A, b), call the GaussElim(Ab, col) function you created above and index over the appropriate $col$ values.  The $col$ values should not be set, but instead should be derived from the size of $A$.  Using the $A$ and $b$ arrays above, my code generated the following outputs at the next two steps in the elimination process (decimals trucated).\n",
    "\n",
    "$A = \\begin{bmatrix}\n",
    "10 &   9 &  8&  7&    6 \\\\\n",
    "0  &  4.1& 3.2  &6.3  &  8.4  \\\\\n",
    "0  &   0 &  -2.268 & -3.12195 & -3.829268 \\\\\n",
    "0  &   0 &  1.341 &  1.6097 &  2.1463 \n",
    "\\end{bmatrix}$\n",
    "\n",
    "$A = \\begin{bmatrix}\n",
    "10 &   9 &  8&  7&    6 \\\\\n",
    "0  &  4.1& 3.2  &6.3  &  8.4  \\\\\n",
    "0  &   0 &  -2.268 & -3.12195 & -3.829268 \\\\\n",
    "0  &   0 &  0 &  -0.236559 &  -0.11828  \n",
    "\\end{bmatrix}$\n",
    "\n",
    "If everything is working except for your pivoting, then you should see\n",
    "\n",
    "$A = \\begin{bmatrix}\n",
    "10 &   9 &  8&  7&    6 \\\\\n",
    "0  &  1.1& 2.2  &3.3  &  4.4  \\\\\n",
    "0  &   0 &  -3 & -4 & -5 \\\\\n",
    "0  &   0 &  0 & 0.6667 &  0.3333 \n",
    "\\end{bmatrix}$"
   ]
  },
  {
   "cell_type": "code",
   "execution_count": 4,
   "metadata": {},
   "outputs": [
    {
     "data": {
      "text/plain": [
       "array([[10.        ,  9.        ,  8.        ,  7.        ,  6.        ],\n",
       "       [ 0.        ,  4.1       ,  3.2       ,  6.3       ,  8.4       ],\n",
       "       [ 0.        ,  0.        , -2.26829268, -3.12195122, -3.82926829],\n",
       "       [ 0.        ,  0.        ,  0.        , -0.23655914, -0.11827957]])"
      ]
     },
     "execution_count": 4,
     "metadata": {},
     "output_type": "execute_result"
    }
   ],
   "source": [
    "def UpTriang(A,b):\n",
    "    Ab = np.concatenate([A,np.transpose(b)],1)#adds the b matrix to the A one\n",
    "    for i in range(0,len(A)-1): \n",
    "        Ab = GaussElim(Ab,i) #runs through for each column in the matrix\n",
    "    return Ab\n",
    "UpTriang(A,b)"
   ]
  },
  {
   "cell_type": "markdown",
   "metadata": {},
   "source": [
    "## Part 4\n",
    "\n",
    "Finally, write a function $BackSub(A, b)$ that inputs an $N \\times N$ matrix/2D array $A$ and vector/2D array $b$ of the size $N \\times 1$.  This function should call the $UpTriang(A, b)$ function and then use Back Substitution from the lecture to solve the system of equations $\\mathbf{Ax=b}$.  This function should output a 1-D array of values that correspond to the $x_i$ in the $\\mathbf x$ array.  To check your answer, substitute $\\mathbf x$ into $\\mathbf{Ax=b}$ to recover the values in $\\mathbf b$."
   ]
  },
  {
   "cell_type": "code",
   "execution_count": 6,
   "metadata": {},
   "outputs": [
    {
     "data": {
      "text/plain": [
       "array([-1. ,  0.5,  1. ,  0.5])"
      ]
     },
     "execution_count": 6,
     "metadata": {},
     "output_type": "execute_result"
    }
   ],
   "source": [
    "def BackSub(A,b):\n",
    "    Ab = UpTriang(A,b)\n",
    "    xvalues = np.ones(len(A)) #initialize the x value array\n",
    "    Ab[0:len(A),len(A)] = -1*Ab[0:len(A),len(A)] #makes it easier to add up \n",
    "    for i in range(len(A)):\n",
    "        xvalues[len(A)-1-i] = -(np.sum(Ab[len(A)-i-1,len(A)-i:]))/Ab[len(A)-1-i,len(A)-1-i] #takes the sum of all the values after the first one in a row\n",
    "        Ab[:len(A)-i-1,len(A)-1-i] = (xvalues[len(A)-1-i])*Ab[0:len(A)-i-1,len(A)-i-1] #multiplies the previously solved x value by the column\n",
    "    return xvalues\n",
    "BackSub(A,b)"
   ]
  },
  {
   "cell_type": "markdown",
   "metadata": {},
   "source": [
    "## Part 5\n",
    "\n",
    "You now have all the tools to write a function to return the inverse of a matrix.  Write a function $myInv(A)$ that inputs an $N \\times N$ matrix/2D array $A$ and returns its inverse.  You can work with the array $A$ above, and to verify that your new matrix is indeed the inverse, evaluate $\\mathbf{ A A^{-1} = I}$.\n",
    "\n",
    "Q: If your $\\mathbf{ A A^{-1} = I}$ is not exactly the identity matrix, please explain why?"
   ]
  },
  {
   "cell_type": "code",
   "execution_count": 227,
   "metadata": {},
   "outputs": [
    {
     "data": {
      "text/plain": [
       "array([[ 1.54545455, -3.45454545, -2.        ,  1.        ],\n",
       "       [-1.04545455,  1.95454545,  1.5       , -0.5       ],\n",
       "       [-2.18181818,  5.81818182,  3.        , -2.        ],\n",
       "       [ 1.77272727, -4.22727273, -2.5       ,  1.5       ]])"
      ]
     },
     "execution_count": 227,
     "metadata": {},
     "output_type": "execute_result"
    }
   ],
   "source": [
    "def myInv(A):\n",
    "    I1 = np.array([[1.,0,0,0]]) #making the identity matrix in for different N by 1 matrices\n",
    "    I2 = np.array([[0,1.,0,0]])\n",
    "    I3 = np.array([[0,0,1.,0]])\n",
    "    I4 = np.array([[0,0,0,1.]])\n",
    "    Inverse = np.array([BackSub(A,I1), BackSub(A,I2), BackSub(A,I3), BackSub(A,I4)])\n",
    "    InverseReal = np.array([Inverse[0:,3],Inverse[0:,2],Inverse[0:,1],Inverse[0:,0]]) #have to rotate it to convey the correct matrix\n",
    "    return InverseReal\n",
    "myInv(A)"
   ]
  },
  {
   "cell_type": "markdown",
   "metadata": {},
   "source": [
    "## Part 6\n",
    "\n",
    "Write a another function UpTriang2(A, b) that inputs an $N \\times N$ matrix/2D array $A$ and vector/2D array $b$ of the size $N \\times 1$.  This function should output an augmented matrix in upper triangular form.  In UpTriang2(A, b), call the GaussElim(Ab, col) function you created above as you did before, but instead of indexing over the appropriate $col$ values, remove the Row 0 and Column 0 parts of the array to create a slightly smaller array.  [Note, you should store the Row 0 value to create the upper triangular matrix.]  Then run GaussElim(Ab, col), for col=0, on this new smaller array, save Row 0, create a smaller array, and iterate until Gaussian Elimination is complete.  Test you algorithm against the $A$ and $b$ you used above.\n",
    "\n",
    "There is a thought that by working on smaller arrays, this method to create upper triangular matrices could be faster.  Test this idea by creating a large array of $1000 \\times 1000$ random values and create an upper triangular array use the two functions you have created.  Time their performance using the %timeit command before calling the functions. [Note: $b$ will need to be a 2D array of $1 \\times 1000$ elements.  \"Up-Size\" the array by using np.array([np.random.rand(100)]).\n",
    "\n",
    "Q: Briefly discuss which function was faster and hypothesize why.  Also, time your functions for $100 \\times 100$ and $10 \\times 10$ input arrays.  How does the run-time change for changing N?  Does this make sense?  Consider this relative to the approximate number of calculations your function has to do."
   ]
  },
  {
   "cell_type": "code",
   "execution_count": 283,
   "metadata": {},
   "outputs": [
    {
     "name": "stdout",
     "output_type": "stream",
     "text": [
      "CPU times: user 34.8 ms, sys: 3.83 ms, total: 38.6 ms\n",
      "Wall time: 44.1 ms\n",
      "CPU times: user 22.8 ms, sys: 2.84 ms, total: 25.6 ms\n",
      "Wall time: 24.1 ms\n"
     ]
    },
    {
     "data": {
      "text/plain": [
       "array([[ 0.99136342,  0.17431985,  0.45160118, ...,  0.58200868,\n",
       "         0.29778044,  0.4035908 ],\n",
       "       [ 0.        ,  0.97273991,  0.65174847, ...,  0.36794921,\n",
       "         0.71589619,  0.86836219],\n",
       "       [ 0.        ,  0.        , -0.65552131, ...,  0.29656291,\n",
       "        -0.49391468, -0.35387175],\n",
       "       ...,\n",
       "       [ 0.        ,  0.        ,  0.        , ..., 10.05568625,\n",
       "         6.4216085 , -0.91758175],\n",
       "       [ 0.        ,  0.        ,  0.        , ..., -4.18186946,\n",
       "        -3.47943927,  1.13422757],\n",
       "       [ 0.        ,  0.        ,  0.        , ...,  0.        ,\n",
       "        -1.3824774 ,  0.03217662]])"
      ]
     },
     "execution_count": 283,
     "metadata": {},
     "output_type": "execute_result"
    }
   ],
   "source": [
    "def UpTriang2(A,b):\n",
    "    Ab = np.concatenate([A,np.transpose(b)],1)#adds the b matrix to the A one\n",
    "    AbRows = []*len(A)\n",
    "    for i in range(len(A)):\n",
    "    \n",
    "        GaussElim(Ab,0)\n",
    "        AbRows.append(Ab[0,0:])\n",
    "        Ab = np.delete(Ab,0,0)\n",
    "        Ab = np.delete(Ab,0,1)\n",
    "    return AbRows\n",
    "\n",
    "A1 = np.random.rand(100,100)\n",
    "b1 = np.array([np.random.rand(100)])\n",
    "\n",
    "%time UpTriang2(A1,b1)\n",
    "\n",
    "%time UpTriang(A1,b1)"
   ]
  },
  {
   "cell_type": "markdown",
   "metadata": {},
   "source": [
    "The second triangle function was recorded to be the fastest for lower N. This may have been because of the the reduced amount of data to deal with through each iteration as it took pieces of the matrix out each time. However, when N increases the first function is faster. This could be because of the reduced amount of commands in the for loop for the first function. The runtime seems to scale linearly with N which makes sense because they are both just running for loops which are O(N)."
   ]
  },
  {
   "cell_type": "markdown",
   "metadata": {},
   "source": [
    "## Acknowledgements\n",
    "\n",
    "Please comment on any help that you received from your group members or others concerning this Lab assignment."
   ]
  },
  {
   "cell_type": "markdown",
   "metadata": {},
   "source": [
    "Lab was done completely individually."
   ]
  }
 ],
 "metadata": {
  "kernelspec": {
   "display_name": "Python 3",
   "language": "python",
   "name": "python3"
  },
  "language_info": {
   "codemirror_mode": {
    "name": "ipython",
    "version": 3
   },
   "file_extension": ".py",
   "mimetype": "text/x-python",
   "name": "python",
   "nbconvert_exporter": "python",
   "pygments_lexer": "ipython3",
   "version": "3.8.5"
  }
 },
 "nbformat": 4,
 "nbformat_minor": 4
}
